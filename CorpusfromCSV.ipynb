{
 "cells": [
  {
   "cell_type": "markdown",
   "metadata": {},
   "source": [
    "# Data Preparation for Nfstream Features\n",
    "\n",
    "- [remove column](#1---remove-unnecessary-columns)\n",
    "- [imbalance dataset](#2---imbalance-data)\n",
    "- [add label](#3---add-label)\n",
    "- [save as csv](#4---save-dataset-as-csv)\n",
    "- [Tagging](#5---tagging)\n",
    "- [format as json](#6---format-as-json)\n",
    "---------------------------------------------\n",
    "-  [Dataset iotfsktm](#dataset-iotfsktm)\n",
    "-  [Dataset unsw](#dataset-unsw)"
   ]
  },
  {
   "cell_type": "code",
   "execution_count": 2,
   "metadata": {},
   "outputs": [],
   "source": [
    "import pandas as pd\n",
    "import glob, os\n",
    "import numpy as np\n",
    "pd.set_option('display.max_columns', 500)\n",
    "pd.set_option('display.max_rows', 500)"
   ]
  },
  {
   "cell_type": "markdown",
   "metadata": {},
   "source": [
    "#### 1 - Remove unnecessary columns"
   ]
  },
  {
   "cell_type": "code",
   "execution_count": null,
   "metadata": {},
   "outputs": [],
   "source": [
    "colname=['id', 'expiration_id', 'src_ip', 'src_mac', 'src_oui', 'src_port',\n",
    "       'dst_ip', 'dst_mac', 'dst_oui', 'dst_port', 'protocol', 'ip_version',\n",
    "       'vlan_id', 'tunnel_id', 'bidirectional_first_seen_ms',\n",
    "       'bidirectional_last_seen_ms', 'bidirectional_duration_ms',\n",
    "       'bidirectional_packets', 'bidirectional_bytes', 'src2dst_first_seen_ms',\n",
    "       'src2dst_last_seen_ms', 'src2dst_duration_ms', 'src2dst_packets',\n",
    "       'src2dst_bytes', 'dst2src_first_seen_ms', 'dst2src_last_seen_ms',\n",
    "       'dst2src_duration_ms', 'dst2src_packets', 'dst2src_bytes',\n",
    "       'bidirectional_min_ps', 'bidirectional_mean_ps',\n",
    "       'bidirectional_stddev_ps', 'bidirectional_max_ps', 'src2dst_min_ps',\n",
    "       'src2dst_mean_ps', 'src2dst_stddev_ps', 'src2dst_max_ps',\n",
    "       'dst2src_min_ps', 'dst2src_mean_ps', 'dst2src_stddev_ps',\n",
    "       'dst2src_max_ps', 'bidirectional_min_piat_ms',\n",
    "       'bidirectional_mean_piat_ms', 'bidirectional_stddev_piat_ms',\n",
    "       'bidirectional_max_piat_ms', 'src2dst_min_piat_ms',\n",
    "       'src2dst_mean_piat_ms', 'src2dst_stddev_piat_ms', 'src2dst_max_piat_ms',\n",
    "       'dst2src_min_piat_ms', 'dst2src_mean_piat_ms', 'dst2src_stddev_piat_ms',\n",
    "       'dst2src_max_piat_ms', 'bidirectional_syn_packets',\n",
    "       'bidirectional_cwr_packets', 'bidirectional_ece_packets',\n",
    "       'bidirectional_urg_packets', 'bidirectional_ack_packets',\n",
    "       'bidirectional_psh_packets', 'bidirectional_rst_packets',\n",
    "       'bidirectional_fin_packets', 'src2dst_syn_packets',\n",
    "       'src2dst_cwr_packets', 'src2dst_ece_packets', 'src2dst_urg_packets',\n",
    "       'src2dst_ack_packets', 'src2dst_psh_packets', 'src2dst_rst_packets',\n",
    "       'src2dst_fin_packets', 'dst2src_syn_packets', 'dst2src_cwr_packets',\n",
    "       'dst2src_ece_packets', 'dst2src_urg_packets', 'dst2src_ack_packets',\n",
    "       'dst2src_psh_packets', 'dst2src_rst_packets', 'dst2src_fin_packets',\n",
    "       'application_name', 'application_category_name',\n",
    "       'application_is_guessed', 'requested_server_name', 'client_fingerprint',\n",
    "       'server_fingerprint', 'user_agent', 'content_type', 'device', 'label']\n",
    "\n",
    "len(colname)"
   ]
  },
  {
   "cell_type": "code",
   "execution_count": 3,
   "metadata": {},
   "outputs": [
    {
     "data": {
      "text/plain": [
       "88"
      ]
     },
     "execution_count": 3,
     "metadata": {},
     "output_type": "execute_result"
    }
   ],
   "source": [
    "cname=['id', 'expiration_id','src_ip', 'src_mac', 'src_oui','sp',\n",
    "       'dst_ip', 'dst_mac', 'dst_oui','dp', 'ptcl', 'ipv', \n",
    "       'vln','tnnl', 'bidirectional_first_seen_ms',\n",
    "       'bidirectional_last_seen_ms', 'bi_dur',\n",
    "       'bi_pkt', 'bi_byte', 'src2dst_first_seen_ms',\n",
    "       'src2dst_last_seen_ms', 's2d_dur', 's2d',\n",
    "       's2d_byte', 'dst2src_first_seen_ms', 'dst2src_last_seen_ms',\n",
    "       'd2s_dur', 'd2s', 'd2s_byte', 'bi_min_ps', 'bi_mean_ps',\n",
    "       'bi_std_ps', 'bi_max_ps', 's2d_min_ps',\n",
    "       's2d_mean_ps', 's2d_std_ps', 's2d_max_ps',\n",
    "       'd2s_min_ps', 'd2s_mean_ps', 'd2s_std_ps',\n",
    "       'd2s_max_ps', 'bi_min_pi_ms',\n",
    "       'bi_mean_pi_ms', 'bi_std_pi_ms',\n",
    "       'bi_max_pi_ms', 's2d_min_pi_ms',\n",
    "       's2d_mean_pi_ms', 's2d_std_pi_ms', 's2d_max_pi_ms',\n",
    "       'd2s_min_pi_ms', 'd2s_mean_pi_ms', 'd2s_std_pi_ms',\n",
    "       'd2s_max_pi_ms', 'bi_syn',\n",
    "       'bi_cwr', 'bi_ece',\n",
    "       'bi_urg', 'bi_ack',\n",
    "       'bi_psh', 'bi_rst',\n",
    "       'bi_fin', 's2d_syn',\n",
    "       's2d_cwr', 's2d_ece', 's2d_urg',\n",
    "       's2d_ack', 's2d_psh', 's2d_rst',\n",
    "       's2d_fin', 'd2s_syn', 'd2s_cwr',\n",
    "       'd2s_ece', 'd2s_urg', 'd2s_ack',\n",
    "       'd2s_psh', 'd2s_rst', 'd2s_fin',\n",
    "       'app_name', 'app_cat', 'application_is_guessed','application_confidence',\n",
    "       'req_server_name', 'client_fingerprint', 'server_fingerprint',\n",
    "       'user_agent', 'content_type', 'device', 'label']\n",
    "\n",
    "len(cname)"
   ]
  },
  {
   "cell_type": "code",
   "execution_count": null,
   "id": "1c052a37",
   "metadata": {},
   "outputs": [],
   "source": [
    "# source = \"/mnt/c/Users/iotfs/OneDrive - Universiti Malaya/dataset/Dataset_csv/unsw/nfstream/dataset.csv\""
   ]
  },
  {
   "cell_type": "code",
   "execution_count": null,
   "id": "f11fcdbc",
   "metadata": {},
   "outputs": [],
   "source": [
    "#parse from nfstream\n",
    "#df = NFStreamer(source,statistical_analysis=True,accounting_mode=1,idle_timeout=10,active_timeout=30,).to_pandas()\n",
    "\n",
    "#load csv\n",
    "df = pd.read_csv(open(source,'r'),delimiter=',',names=cname,skiprows=1)\n",
    "df.columns"
   ]
  },
  {
   "cell_type": "code",
   "execution_count": 4,
   "metadata": {},
   "outputs": [],
   "source": [
    "def drop_columns(df):\n",
    "    return df.drop(columns=[\"id\",\"expiration_id\",\"src_ip\",\n",
    "    \"src_mac\",\"src_oui\",\"dst_ip\",\"dst_mac\",\"dst_oui\",\"bidirectional_first_seen_ms\",\n",
    "    \"bidirectional_last_seen_ms\",\"src2dst_first_seen_ms\",\"src2dst_last_seen_ms\",\"dst2src_first_seen_ms\",\n",
    "    \"dst2src_last_seen_ms\",\"application_is_guessed\",\"user_agent\"#,\"device\",\"label\"\n",
    "    ])\n",
    "\n",
    "# df1=drop_columns(df)\n"
   ]
  },
  {
   "cell_type": "code",
   "execution_count": null,
   "id": "413cccc4",
   "metadata": {},
   "outputs": [],
   "source": [
    "df=drop_columns(df)"
   ]
  },
  {
   "cell_type": "markdown",
   "metadata": {},
   "source": [
    "#### 2 - Imbalance data"
   ]
  },
  {
   "cell_type": "code",
   "execution_count": null,
   "metadata": {},
   "outputs": [],
   "source": [
    "def counter_device(df):\n",
    "    return df['device'].value_counts()\n",
    "\n",
    "counter_device(df_X).plot(kind='bar')"
   ]
  },
  {
   "cell_type": "code",
   "execution_count": null,
   "metadata": {},
   "outputs": [],
   "source": [
    "df_Y=df['device']"
   ]
  },
  {
   "cell_type": "code",
   "execution_count": null,
   "metadata": {},
   "outputs": [],
   "source": [
    "sampling_strategy_rus ={\"Belkin wemo motion sensor\":50000,\n",
    "\"Belkin Wemo switch\":50000,\n",
    "\"Insteon Camera\":40000,\n",
    "\"HP Printer\":50000,\n",
    "\"Samsung SmartCam\":40000,\n",
    "\"Amazon Echo\":50000,\n",
    "\"MacBook\":50000,\n",
    "\"Netatmo Welcome\":50000,\n",
    "\"Samsung Galaxy Tab\":50000,\n",
    "\"Laptop\":50000,\n",
    "\"Light Bulbs LiFX Smart Bulb\" :50000,\n",
    "\"Triby Speaker\":29138,\n",
    "\"Netatmo weather station\":28888,\n",
    "\"Smart Things\":25664,\n",
    "\"TP-Link Day Night Cloud camera\":16759,\n",
    "\"Withings Aura smart sleep sensor\":15903,\n",
    "\"PIX-STAR Photo-frame\":14043,\n",
    "\"Android Phone 2\":13284,\n",
    "\"Withings Smart Baby Monitor\":11947,\n",
    "\"TP-Link Smart plug\":8766,\n",
    "\"Dropcam\":4007,\n",
    "\"Android Phone 1\":2409,\n",
    "\"MacBook Iphone\":2334,\n",
    "\"IPhone\":1317,\n",
    "\"iHome Power Plug\":1183,\n",
    "\"NEST Protect smoke alarm\":811,\n",
    "\"Withings Smart scale\":599,\n",
    "\"IoT Camera1\":128,\n",
    "\"Nest Dropcam\":82,\n",
    "\"Blipcare Blood Pressure meter\":19}"
   ]
  },
  {
   "cell_type": "code",
   "execution_count": null,
   "metadata": {},
   "outputs": [],
   "source": [
    "sampling_strategy_ros ={\"Belkin wemo motion sensor\":50000,\n",
    "\"Belkin Wemo switch\":50000,\n",
    "\"Insteon Camera\":40000,\n",
    "\"HP Printer\":50000,\n",
    "\"Samsung SmartCam\":40000,\n",
    "\"Amazon Echo\":50000,\n",
    "\"MacBook\":50000,\n",
    "\"Netatmo Welcome\":50000,\n",
    "\"Samsung Galaxy Tab\":50000,\n",
    "\"Laptop\":50000,\n",
    "\"Light Bulbs LiFX Smart Bulb\" :50000,\n",
    "\"Triby Speaker\":29138,\n",
    "\"Netatmo weather station\":28888,\n",
    "\"Smart Things\":25664,\n",
    "\"TP-Link Day Night Cloud camera\":16759,\n",
    "\"Withings Aura smart sleep sensor\":15903,\n",
    "\"PIX-STAR Photo-frame\":14043,\n",
    "\"Android Phone 2\":13284,\n",
    "\"Withings Smart Baby Monitor\":11947,\n",
    "\"TP-Link Smart plug\":8766,\n",
    "\"Dropcam\":4007,\n",
    "\"Android Phone 1\":2409,\n",
    "\"MacBook Iphone\":2500,\n",
    "\"IPhone\":1500,\n",
    "\"iHome Power Plug\":1183,\n",
    "\"NEST Protect smoke alarm\":1500,\n",
    "\"Withings Smart scale\":1000,\n",
    "\"IoT Camera1\":2000,\n",
    "\"Nest Dropcam\":1500,\n",
    "\"Blipcare Blood Pressure meter\":1000}"
   ]
  },
  {
   "cell_type": "code",
   "execution_count": null,
   "metadata": {},
   "outputs": [],
   "source": [
    "from imblearn.under_sampling import RandomUnderSampler\n",
    "rus = RandomUnderSampler(sampling_strategy=sampling_strategy_rus,random_state=42)\n",
    "df_x, df_y = rus.fit_resample(df_X, df_Y)"
   ]
  },
  {
   "cell_type": "code",
   "execution_count": null,
   "metadata": {},
   "outputs": [],
   "source": [
    "from imblearn.over_sampling import RandomOverSampler\n",
    "ros = RandomOverSampler(sampling_strategy=sampling_strategy_ros,random_state=42)\n",
    "df_x, df_y = ros.fit_resample(df_x, df_y)"
   ]
  },
  {
   "cell_type": "markdown",
   "metadata": {},
   "source": [
    "#### 3 - Add Label"
   ]
  },
  {
   "cell_type": "code",
   "execution_count": 4,
   "metadata": {},
   "outputs": [],
   "source": [
    "def add_label(df):\n",
    "    # for data unsw\n",
    "    # devicelist = pd.read_csv(\"/mnt/c/Users/iotfs/OneDrive - Universiti Malaya/dataset/Dataset_csv/unsw/unsw_devicelist.csv\", sep=',')\n",
    "    # print(\"Category:\",devicelist.Category.unique())\n",
    "    # device_dict = dict(devicelist.drop(columns=['eth.src', 'Connection','Label']).values)\n",
    "    \n",
    "    # data iotfsktm\n",
    "    device_dict = {'Alexa Echo Dot':'Hub','Mi Air Purifier':'Health Monitor','Mi Box 3':\"Appliances\",'Mi Home Security Camera':\"Camera\",'Smart Plug':'Energy Management'}\n",
    "    df['category']= df['device'].map(device_dict)\n",
    "    return df\n",
    "\n",
    "# df=add_label(df)"
   ]
  },
  {
   "cell_type": "code",
   "execution_count": 30,
   "metadata": {},
   "outputs": [
    {
     "data": {
      "text/plain": [
       "array(['Alexa Echo Dot', 'Mi Air Purifier', 'Mi Box 3',\n",
       "       'Mi Home Security Camera', 'Smart Plug'], dtype=object)"
      ]
     },
     "execution_count": 30,
     "metadata": {},
     "output_type": "execute_result"
    }
   ],
   "source": [
    "df.device.unique()"
   ]
  },
  {
   "cell_type": "code",
   "execution_count": 34,
   "metadata": {},
   "outputs": [
    {
     "data": {
      "text/plain": [
       "Alexa Echo Dot             29.958675\n",
       "Mi Home Security Camera    28.220363\n",
       "Smart Plug                 20.542926\n",
       "Mi Box 3                   11.128297\n",
       "Mi Air Purifier            10.149738\n",
       "Name: device, dtype: float64"
      ]
     },
     "execution_count": 34,
     "metadata": {},
     "output_type": "execute_result"
    }
   ],
   "source": [
    "df['device'].value_counts()/len(df)*100"
   ]
  },
  {
   "cell_type": "code",
   "execution_count": 32,
   "metadata": {},
   "outputs": [
    {
     "data": {
      "text/plain": [
       "Hub                  29.958675\n",
       "Camera               28.220363\n",
       "Energy Management    20.542926\n",
       "Appliances           11.128297\n",
       "Health Monitor       10.149738\n",
       "Name: category, dtype: float64"
      ]
     },
     "execution_count": 32,
     "metadata": {},
     "output_type": "execute_result"
    }
   ],
   "source": [
    "\n",
    "df.category.value_counts()/len(df)*100"
   ]
  },
  {
   "cell_type": "code",
   "execution_count": 35,
   "metadata": {},
   "outputs": [],
   "source": [
    "# round to 2 decimals point and fill Nan value with 0\n",
    "df = df.round(decimals=2)\n",
    "df = df.fillna(0)\n",
    "\n",
    "#shuffle\n",
    "df = df.sample(frac=1,ignore_index=True)"
   ]
  },
  {
   "cell_type": "markdown",
   "metadata": {},
   "source": [
    "#### 4 - Save dataset as csv"
   ]
  },
  {
   "cell_type": "code",
   "execution_count": 6,
   "id": "4736bae2",
   "metadata": {},
   "outputs": [],
   "source": [
    "def save_csv(df): \n",
    "    # df.to_csv(\"/mnt/c/Users/iotfs/OneDrive - Universiti Malaya/dataset/Dataset_csv/unsw/nfstream/dataset_balanced.csv\", index=False, sep='\\t',header=True)\n",
    "    df.to_csv(\"/mnt/c/Users/iotfs/OneDrive - Universiti Malaya/dataset/iotfsktm/Combined CSV/dataset_iotfsktm.csv\", index=False, sep='\\t',header=True)\n",
    "\n",
    "# save_csv(df)"
   ]
  },
  {
   "cell_type": "code",
   "execution_count": null,
   "metadata": {},
   "outputs": [],
   "source": [
    "# del [[df,df_X,df_Y,temp,df_x,df_y]]"
   ]
  },
  {
   "cell_type": "markdown",
   "id": "b3676f61",
   "metadata": {},
   "source": [
    "#### 5 - Tagging"
   ]
  },
  {
   "cell_type": "code",
   "execution_count": null,
   "metadata": {},
   "outputs": [],
   "source": [
    "def load_csv():\n",
    "    # source=\"/mnt/c/Users/iotfs/OneDrive - Universiti Malaya/dataset/Dataset_csv/unsw/nfstream/dataset_balanced.csv\"\n",
    "    source=\"/mnt/c/Users/iotfs/OneDrive - Universiti Malaya/dataset/iotfsktm/Combined CSV/dataset_iotfsktm.csv\"\n",
    "\n",
    "    return pd.read_csv(open(source,'r'),delimiter='\\t')\n",
    "# df1=load_csv()\n",
    "# df1.columns"
   ]
  },
  {
   "cell_type": "code",
   "execution_count": 7,
   "metadata": {},
   "outputs": [],
   "source": [
    "def tagging(df,delimiter=' '):\n",
    "    df=df.loc[:, ~df.columns.isin(['device','label','category'])].astype(str).apply(lambda x : x.name+delimiter+x)\n",
    "    return df\n",
    "\n",
    "# df_tag = tagging(df1)\n",
    "# df_tag.head(2)"
   ]
  },
  {
   "cell_type": "markdown",
   "metadata": {},
   "source": [
    "#### 6 - Format as json"
   ]
  },
  {
   "cell_type": "code",
   "execution_count": 8,
   "metadata": {},
   "outputs": [],
   "source": [
    "def prepare_json(df,df1):\n",
    "    df2=pd.DataFrame()\n",
    "    df2['text']=df['sp']+' '+df['dp']+' '+df['ptcl']+' '+df['ipv']+' '+df['vln']+' '+df['tnnl']+' '+df['bi_dur']+' '+df['bi_pkt']+' '+df['bi_byte']+' '+df['s2d_dur']+' '+df['s2d']+' '+df['s2d_byte']+' '+df['d2s_dur']+' '+df['d2s']+' '+df['d2s_byte']+' '+df['bi_min_ps']+' '+df['bi_mean_ps']+' '+df['bi_std_ps']+' '+df['bi_max_ps']+' '+df['s2d_min_ps']+' '+df['s2d_mean_ps']+' '+df['s2d_std_ps']+' '+df['s2d_max_ps']+' '+df['d2s_min_ps']+' '+df['d2s_mean_ps']+' '+df['d2s_std_ps']+' '+df['d2s_max_ps']+' '+df['bi_min_pi_ms']+' '+df['bi_mean_pi_ms']+' '+df['bi_std_pi_ms']+' '+df['bi_max_pi_ms']+' '+df['s2d_min_pi_ms']+' '+df['s2d_mean_pi_ms']+' '+df['s2d_std_pi_ms']+' '+df['s2d_max_pi_ms']+' '+df['d2s_min_pi_ms']+' '+df['d2s_mean_pi_ms']+' '+df['d2s_std_pi_ms']+' '+df['d2s_max_pi_ms']+' '+df['bi_syn']+' '+df['bi_cwr']+' '+df['bi_ece']+' '+df['bi_urg']+' '+df['bi_ack']+' '+df['bi_psh']+' '+df['bi_rst']+' '+df['bi_fin']+' '+df['s2d_syn']+' '+df['s2d_cwr']+' '+df['s2d_ece']+' '+df['s2d_urg']+' '+df['s2d_ack']+' '+df['s2d_psh']+' '+df['s2d_rst']+' '+df['s2d_fin']+' '+df['d2s_syn']+' '+df['d2s_cwr']+' '+df['d2s_ece']+' '+df['d2s_urg']+' '+df['d2s_ack']+' '+df['d2s_psh']+' '+df['d2s_rst']+' '+df['d2s_fin']+' '+df['app_name']+' '+df['app_cat']+' '+df['req_server_name']+' '+df['client_fingerprint']+' '+df['server_fingerprint']+' '+df['content_type']\n",
    "    df2['device']=df1['device']\n",
    "    df2['category']=df1['category']\n",
    "    df2['label']=df1['label']\n",
    "    return df2\n",
    "\n",
    "# df2 = prepare_json(df_tag,df1)\n",
    "# df2.head(1)\n"
   ]
  },
  {
   "cell_type": "code",
   "execution_count": 8,
   "metadata": {},
   "outputs": [],
   "source": [
    "def save_json(name,df2):\n",
    "    # outpath=\"/mnt/c/Users/iotfs/OneDrive - Universiti Malaya/dataset/Dataset_csv/unsw/nfstream/\"\n",
    "    outpath=\"/mnt/c/Users/iotfs/OneDrive - Universiti Malaya/dataset/iotfsktm/Combined CSV/nfstream/\"\n",
    "\n",
    "    name=outpath+name+'.json.gz'\n",
    "    return df2.to_json(name,orient='records',lines=True,compression='gzip')\n",
    "\n",
    "\n"
   ]
  },
  {
   "cell_type": "markdown",
   "metadata": {},
   "source": [
    "### Dataset unsw"
   ]
  },
  {
   "cell_type": "code",
   "execution_count": 9,
   "metadata": {},
   "outputs": [
    {
     "name": "stderr",
     "output_type": "stream",
     "text": [
      "/tmp/ipykernel_303/2918295482.py:2: DtypeWarning: Columns (67,68) have mixed types. Specify dtype option on import or set low_memory=False.\n",
      "  df=pd.read_csv(open(source,'r'),delimiter='\\t')\n"
     ]
    },
    {
     "data": {
      "text/plain": [
       "Index(['sp', 'dp', 'ptcl', 'ipv', 'vln', 'tnnl', 'bi_dur', 'bi_pkt', 'bi_byte',\n",
       "       's2d_dur', 's2d', 's2d_byte', 'd2s_dur', 'd2s', 'd2s_byte', 'bi_min_ps',\n",
       "       'bi_mean_ps', 'bi_std_ps', 'bi_max_ps', 's2d_min_ps', 's2d_mean_ps',\n",
       "       's2d_std_ps', 's2d_max_ps', 'd2s_min_ps', 'd2s_mean_ps', 'd2s_std_ps',\n",
       "       'd2s_max_ps', 'bi_min_pi_ms', 'bi_mean_pi_ms', 'bi_std_pi_ms',\n",
       "       'bi_max_pi_ms', 's2d_min_pi_ms', 's2d_mean_pi_ms', 's2d_std_pi_ms',\n",
       "       's2d_max_pi_ms', 'd2s_min_pi_ms', 'd2s_mean_pi_ms', 'd2s_std_pi_ms',\n",
       "       'd2s_max_pi_ms', 'bi_syn', 'bi_cwr', 'bi_ece', 'bi_urg', 'bi_ack',\n",
       "       'bi_psh', 'bi_rst', 'bi_fin', 's2d_syn', 's2d_cwr', 's2d_ece',\n",
       "       's2d_urg', 's2d_ack', 's2d_psh', 's2d_rst', 's2d_fin', 'd2s_syn',\n",
       "       'd2s_cwr', 'd2s_ece', 'd2s_urg', 'd2s_ack', 'd2s_psh', 'd2s_rst',\n",
       "       'd2s_fin', 'app_name', 'app_cat', 'req_server_name',\n",
       "       'client_fingerprint', 'server_fingerprint', 'content_type', 'device',\n",
       "       'label', 'category'],\n",
       "      dtype='object')"
      ]
     },
     "execution_count": 9,
     "metadata": {},
     "output_type": "execute_result"
    }
   ],
   "source": [
    "\n",
    "source=\"/mnt/c/Users/iotfs/OneDrive - Universiti Malaya/dataset/Dataset_csv/unsw/nfstream/dataset_balanced.csv\" \n",
    "df=pd.read_csv(open(source,'r'),delimiter='\\t')\n",
    "df.columns"
   ]
  },
  {
   "cell_type": "code",
   "execution_count": 17,
   "metadata": {},
   "outputs": [
    {
     "name": "stdout",
     "output_type": "stream",
     "text": [
      "Amazon Echo                         7.012711\n",
      "HP Printer                          7.012711\n",
      "Samsung Galaxy Tab                  7.012711\n",
      "Netatmo Welcome                     7.012711\n",
      "MacBook                             7.012711\n",
      "Laptop                              7.012711\n",
      "Light Bulbs LiFX Smart Bulb         7.012711\n",
      "Belkin wemo motion sensor           7.012711\n",
      "Belkin Wemo switch                  7.012711\n",
      "Insteon Camera                      5.610169\n",
      "Samsung SmartCam                    5.610169\n",
      "Triby Speaker                       4.086728\n",
      "Netatmo weather station             4.051664\n",
      "Smart Things                        3.599484\n",
      "TP-Link Day Night Cloud camera      2.350521\n",
      "Withings Aura smart sleep sensor    2.230463\n",
      "PIX-STAR Photo-frame                1.969590\n",
      "Android Phone 2                     1.863137\n",
      "Withings Smart Baby Monitor         1.675617\n",
      "TP-Link Smart plug                  1.229469\n",
      "Dropcam                             0.561999\n",
      "MacBook Iphone                      0.350636\n",
      "Android Phone 1                     0.337872\n",
      "IoT Camera1                         0.280508\n",
      "NEST Protect smoke alarm            0.210381\n",
      "Nest Dropcam                        0.210381\n",
      "IPhone                              0.210381\n",
      "iHome Power Plug                    0.165921\n",
      "Blipcare Blood Pressure meter       0.140254\n",
      "Withings Smart scale                0.140254\n",
      "Name: device, dtype: float64\n"
     ]
    },
    {
     "data": {
      "text/plain": [
       "array(['Android Phone 1', 'Android Phone 2', 'IPhone', 'Laptop',\n",
       "       'MacBook', 'MacBook Iphone', 'Samsung Galaxy Tab'], dtype=object)"
      ]
     },
     "execution_count": 17,
     "metadata": {},
     "output_type": "execute_result"
    }
   ],
   "source": [
    "print(df['device'].value_counts()/len(df)*100)\n",
    "df[df['label']==0].device.unique()"
   ]
  },
  {
   "cell_type": "code",
   "execution_count": null,
   "metadata": {},
   "outputs": [],
   "source": []
  },
  {
   "cell_type": "markdown",
   "metadata": {},
   "source": [
    "### Dataset iotfsktm"
   ]
  },
  {
   "cell_type": "code",
   "execution_count": null,
   "metadata": {},
   "outputs": [
    {
     "name": "stderr",
     "output_type": "stream",
     "text": [
      "/tmp/ipykernel_2923/1811221438.py:3: DtypeWarning: Columns (82) have mixed types. Specify dtype option on import or set low_memory=False.\n",
      "  df = pd.concat((pd.read_csv(f,delimiter=',',names=cname,skiprows=1) for f in all_files))\n",
      "/tmp/ipykernel_2923/1811221438.py:3: DtypeWarning: Columns (86) have mixed types. Specify dtype option on import or set low_memory=False.\n",
      "  df = pd.concat((pd.read_csv(f,delimiter=',',names=cname,skiprows=1) for f in all_files))\n",
      "/tmp/ipykernel_2923/1811221438.py:3: DtypeWarning: Columns (85,86) have mixed types. Specify dtype option on import or set low_memory=False.\n",
      "  df = pd.concat((pd.read_csv(f,delimiter=',',names=cname,skiprows=1) for f in all_files))\n"
     ]
    },
    {
     "name": "stdout",
     "output_type": "stream",
     "text": [
      "(1071269, 88)\n"
     ]
    },
    {
     "data": {
      "text/plain": [
       "Alexa Echo Dot             29.958675\n",
       "Mi Home Security Camera    28.220363\n",
       "Smart Plug 1               10.661561\n",
       "Mi Box 3                   10.316363\n",
       "Mi Air Purifier            10.149738\n",
       "Smart Plug 2                9.881365\n",
       "Mi Box 3 (2)                0.811934\n",
       "Name: device, dtype: float64"
      ]
     },
     "metadata": {},
     "output_type": "display_data"
    }
   ],
   "source": [
    "paths =\"/mnt/c/Users/iotfs/OneDrive - Universiti Malaya/dataset/iotfsktm/Combined CSV/nfstream/*.csv\"\n",
    "all_files = glob.glob(paths)\n",
    "df = pd.concat((pd.read_csv(f,delimiter=',',names=cname,skiprows=1) for f in all_files))\n",
    "print(df.shape)\n",
    "\n",
    "df = drop_columns(df)\n",
    "\n",
    "df=df.round(decimals=2)\n",
    "df = df.fillna(0)\n",
    "\n",
    "df.device.value_counts()/len(df)*100"
   ]
  },
  {
   "cell_type": "code",
   "execution_count": null,
   "metadata": {},
   "outputs": [
    {
     "data": {
      "text/plain": [
       "Alexa Echo Dot             29.958675\n",
       "Mi Home Security Camera    28.220363\n",
       "Smart Plug                 20.542926\n",
       "Mi Box 3                   11.128297\n",
       "Mi Air Purifier            10.149738\n",
       "Name: device, dtype: float64"
      ]
     },
     "metadata": {},
     "output_type": "display_data"
    }
   ],
   "source": [
    "df['device'] = df['device'].replace(['Smart Plug 1','Smart Plug 2','Mi Box 3 (2)'],['Smart Plug','Smart Plug','Mi Box 3'])\n",
    "\n",
    "df.device.value_counts()/len(df)*100\n",
    "\n",
    "#save csv"
   ]
  },
  {
   "cell_type": "code",
   "execution_count": null,
   "metadata": {},
   "outputs": [
    {
     "data": {
      "text/plain": [
       "Hub                  29.958675\n",
       "Camera               28.220363\n",
       "Energy Management    20.542926\n",
       "Appliances           11.128297\n",
       "Health Monitor       10.149738\n",
       "Name: category, dtype: float64"
      ]
     },
     "metadata": {},
     "output_type": "display_data"
    }
   ],
   "source": [
    "df.category.value_counts()/len(df)*100"
   ]
  },
  {
   "cell_type": "code",
   "execution_count": null,
   "metadata": {},
   "outputs": [],
   "source": [
    "df = add_label(df)\n",
    "\n",
    "df_tag = tagging(df)"
   ]
  },
  {
   "cell_type": "code",
   "execution_count": null,
   "metadata": {},
   "outputs": [
    {
     "data": {
      "text/html": [
       "<div>\n",
       "<style scoped>\n",
       "    .dataframe tbody tr th:only-of-type {\n",
       "        vertical-align: middle;\n",
       "    }\n",
       "\n",
       "    .dataframe tbody tr th {\n",
       "        vertical-align: top;\n",
       "    }\n",
       "\n",
       "    .dataframe thead th {\n",
       "        text-align: right;\n",
       "    }\n",
       "</style>\n",
       "<table border=\"1\" class=\"dataframe\">\n",
       "  <thead>\n",
       "    <tr style=\"text-align: right;\">\n",
       "      <th></th>\n",
       "      <th>text</th>\n",
       "      <th>device</th>\n",
       "      <th>category</th>\n",
       "      <th>label</th>\n",
       "    </tr>\n",
       "  </thead>\n",
       "  <tbody>\n",
       "    <tr>\n",
       "      <th>0</th>\n",
       "      <td>sp 49154 dp 6667 ptcl 17 ipv 4 vln 0 tnnl 0 bi...</td>\n",
       "      <td>Smart Plug</td>\n",
       "      <td>Energy Management</td>\n",
       "      <td>1</td>\n",
       "    </tr>\n",
       "  </tbody>\n",
       "</table>\n",
       "</div>"
      ],
      "text/plain": [
       "                                                text      device  \\\n",
       "0  sp 49154 dp 6667 ptcl 17 ipv 4 vln 0 tnnl 0 bi...  Smart Plug   \n",
       "\n",
       "            category  label  \n",
       "0  Energy Management      1  "
      ]
     },
     "metadata": {},
     "output_type": "display_data"
    }
   ],
   "source": [
    "\n",
    "df = prepare_json(df_tag,df)\n",
    "#shuffle\n",
    "df=df.sample(frac=1,ignore_index=True)\n",
    "\n",
    "df.head(1)"
   ]
  },
  {
   "cell_type": "code",
   "execution_count": null,
   "metadata": {},
   "outputs": [],
   "source": [
    "save_json('dataset_iotfsktm',df)\n"
   ]
  },
  {
   "cell_type": "code",
   "execution_count": null,
   "metadata": {},
   "outputs": [],
   "source": []
  },
  {
   "cell_type": "code",
   "execution_count": 9,
   "metadata": {},
   "outputs": [
    {
     "name": "stderr",
     "output_type": "stream",
     "text": [
      "/tmp/ipykernel_2923/1811221438.py:3: DtypeWarning: Columns (82) have mixed types. Specify dtype option on import or set low_memory=False.\n",
      "  df = pd.concat((pd.read_csv(f,delimiter=',',names=cname,skiprows=1) for f in all_files))\n",
      "/tmp/ipykernel_2923/1811221438.py:3: DtypeWarning: Columns (86) have mixed types. Specify dtype option on import or set low_memory=False.\n",
      "  df = pd.concat((pd.read_csv(f,delimiter=',',names=cname,skiprows=1) for f in all_files))\n",
      "/tmp/ipykernel_2923/1811221438.py:3: DtypeWarning: Columns (85,86) have mixed types. Specify dtype option on import or set low_memory=False.\n",
      "  df = pd.concat((pd.read_csv(f,delimiter=',',names=cname,skiprows=1) for f in all_files))\n"
     ]
    },
    {
     "name": "stdout",
     "output_type": "stream",
     "text": [
      "(1071269, 88)\n"
     ]
    },
    {
     "data": {
      "text/plain": [
       "Alexa Echo Dot             29.958675\n",
       "Mi Home Security Camera    28.220363\n",
       "Smart Plug 1               10.661561\n",
       "Mi Box 3                   10.316363\n",
       "Mi Air Purifier            10.149738\n",
       "Smart Plug 2                9.881365\n",
       "Mi Box 3 (2)                0.811934\n",
       "Name: device, dtype: float64"
      ]
     },
     "execution_count": 9,
     "metadata": {},
     "output_type": "execute_result"
    }
   ],
   "source": [
    "paths =\"/mnt/c/Users/iotfs/OneDrive - Universiti Malaya/dataset/iotfsktm/Combined CSV/nfstream/*.csv\"\n",
    "all_files = glob.glob(paths)\n",
    "df = pd.concat((pd.read_csv(f,delimiter=',',names=cname,skiprows=1) for f in all_files))\n",
    "print(df.shape)\n",
    "\n",
    "df = drop_columns(df)\n",
    "\n",
    "df=df.round(decimals=2)\n",
    "df = df.fillna(0)\n",
    "\n",
    "df.device.value_counts()/len(df)*100"
   ]
  },
  {
   "cell_type": "code",
   "execution_count": 11,
   "metadata": {},
   "outputs": [
    {
     "data": {
      "text/plain": [
       "Alexa Echo Dot             29.958675\n",
       "Mi Home Security Camera    28.220363\n",
       "Smart Plug                 20.542926\n",
       "Mi Box 3                   11.128297\n",
       "Mi Air Purifier            10.149738\n",
       "Name: device, dtype: float64"
      ]
     },
     "execution_count": 11,
     "metadata": {},
     "output_type": "execute_result"
    }
   ],
   "source": [
    "df['device'] = df['device'].replace(['Smart Plug 1','Smart Plug 2','Mi Box 3 (2)'],['Smart Plug','Smart Plug','Mi Box 3'])\n",
    "\n",
    "df.device.value_counts()/len(df)*100\n",
    "\n",
    "#save csv"
   ]
  },
  {
   "cell_type": "code",
   "execution_count": 15,
   "metadata": {},
   "outputs": [
    {
     "data": {
      "text/plain": [
       "Hub                  29.958675\n",
       "Camera               28.220363\n",
       "Energy Management    20.542926\n",
       "Appliances           11.128297\n",
       "Health Monitor       10.149738\n",
       "Name: category, dtype: float64"
      ]
     },
     "execution_count": 15,
     "metadata": {},
     "output_type": "execute_result"
    }
   ],
   "source": [
    "df.category.value_counts()/len(df)*100"
   ]
  },
  {
   "cell_type": "code",
   "execution_count": 13,
   "metadata": {},
   "outputs": [],
   "source": [
    "df = add_label(df)\n",
    "\n",
    "df_tag = tagging(df)"
   ]
  },
  {
   "cell_type": "code",
   "execution_count": 14,
   "metadata": {},
   "outputs": [
    {
     "data": {
      "text/html": [
       "<div>\n",
       "<style scoped>\n",
       "    .dataframe tbody tr th:only-of-type {\n",
       "        vertical-align: middle;\n",
       "    }\n",
       "\n",
       "    .dataframe tbody tr th {\n",
       "        vertical-align: top;\n",
       "    }\n",
       "\n",
       "    .dataframe thead th {\n",
       "        text-align: right;\n",
       "    }\n",
       "</style>\n",
       "<table border=\"1\" class=\"dataframe\">\n",
       "  <thead>\n",
       "    <tr style=\"text-align: right;\">\n",
       "      <th></th>\n",
       "      <th>text</th>\n",
       "      <th>device</th>\n",
       "      <th>category</th>\n",
       "      <th>label</th>\n",
       "    </tr>\n",
       "  </thead>\n",
       "  <tbody>\n",
       "    <tr>\n",
       "      <th>0</th>\n",
       "      <td>sp 49154 dp 6667 ptcl 17 ipv 4 vln 0 tnnl 0 bi...</td>\n",
       "      <td>Smart Plug</td>\n",
       "      <td>Energy Management</td>\n",
       "      <td>1</td>\n",
       "    </tr>\n",
       "  </tbody>\n",
       "</table>\n",
       "</div>"
      ],
      "text/plain": [
       "                                                text      device  \\\n",
       "0  sp 49154 dp 6667 ptcl 17 ipv 4 vln 0 tnnl 0 bi...  Smart Plug   \n",
       "\n",
       "            category  label  \n",
       "0  Energy Management      1  "
      ]
     },
     "execution_count": 14,
     "metadata": {},
     "output_type": "execute_result"
    }
   ],
   "source": [
    "\n",
    "df = prepare_json(df_tag,df)\n",
    "#shuffle\n",
    "df=df.sample(frac=1,ignore_index=True)\n",
    "\n",
    "df.head(1)"
   ]
  },
  {
   "cell_type": "code",
   "execution_count": 16,
   "metadata": {},
   "outputs": [],
   "source": [
    "save_json('dataset_iotfsktm',df)\n"
   ]
  },
  {
   "cell_type": "code",
   "execution_count": null,
   "metadata": {},
   "outputs": [],
   "source": []
  }
 ],
 "metadata": {
  "kernelspec": {
   "display_name": "Python 3.8.10 ('transformer-env': venv)",
   "language": "python",
   "name": "python3"
  },
  "language_info": {
   "codemirror_mode": {
    "name": "ipython",
    "version": 3
   },
   "file_extension": ".py",
   "mimetype": "text/x-python",
   "name": "python",
   "nbconvert_exporter": "python",
   "pygments_lexer": "ipython3",
   "version": "3.8.10"
  },
  "orig_nbformat": 4,
  "vscode": {
   "interpreter": {
    "hash": "6250c60fce2b1b45352618ca667374ea37a97a266b04c0c4db6f8ef62c92bb72"
   }
  }
 },
 "nbformat": 4,
 "nbformat_minor": 2
}
