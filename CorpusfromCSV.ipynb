{
 "cells": [
  {
   "cell_type": "markdown",
   "metadata": {},
   "source": [
    "# Data Preparation for Nfstream Features\n",
    "\n",
    "- [remove column](#1---remove-unnecessary-columns)\n",
    "- [imbalance dataset](#2---imbalance-data)\n",
    "- [add label](#3---add-label)\n",
    "- [save as csv](#4---save-dataset-as-csv)\n",
    "- [Tagging](#5---tagging)\n",
    "- [format as json](#6---format-as-json)"
   ]
  },
  {
   "cell_type": "code",
   "execution_count": 1,
   "metadata": {},
   "outputs": [],
   "source": [
    "import pandas as pd\n",
    "import glob, os\n",
    "import numpy as np\n",
    "pd.set_option('display.max_columns', 500)\n",
    "pd.set_option('display.max_rows', 500)"
   ]
  },
  {
   "cell_type": "markdown",
   "metadata": {},
   "source": [
    "#### 1 - Remove unnecessary columns"
   ]
  },
  {
   "cell_type": "code",
   "execution_count": 2,
   "metadata": {},
   "outputs": [
    {
     "data": {
      "text/plain": [
       "87"
      ]
     },
     "execution_count": 2,
     "metadata": {},
     "output_type": "execute_result"
    }
   ],
   "source": [
    "colname=['id', 'expiration_id', 'src_ip', 'src_mac', 'src_oui', 'src_port',\n",
    "       'dst_ip', 'dst_mac', 'dst_oui', 'dst_port', 'protocol', 'ip_version',\n",
    "       'vlan_id', 'tunnel_id', 'bidirectional_first_seen_ms',\n",
    "       'bidirectional_last_seen_ms', 'bidirectional_duration_ms',\n",
    "       'bidirectional_packets', 'bidirectional_bytes', 'src2dst_first_seen_ms',\n",
    "       'src2dst_last_seen_ms', 'src2dst_duration_ms', 'src2dst_packets',\n",
    "       'src2dst_bytes', 'dst2src_first_seen_ms', 'dst2src_last_seen_ms',\n",
    "       'dst2src_duration_ms', 'dst2src_packets', 'dst2src_bytes',\n",
    "       'bidirectional_min_ps', 'bidirectional_mean_ps',\n",
    "       'bidirectional_stddev_ps', 'bidirectional_max_ps', 'src2dst_min_ps',\n",
    "       'src2dst_mean_ps', 'src2dst_stddev_ps', 'src2dst_max_ps',\n",
    "       'dst2src_min_ps', 'dst2src_mean_ps', 'dst2src_stddev_ps',\n",
    "       'dst2src_max_ps', 'bidirectional_min_piat_ms',\n",
    "       'bidirectional_mean_piat_ms', 'bidirectional_stddev_piat_ms',\n",
    "       'bidirectional_max_piat_ms', 'src2dst_min_piat_ms',\n",
    "       'src2dst_mean_piat_ms', 'src2dst_stddev_piat_ms', 'src2dst_max_piat_ms',\n",
    "       'dst2src_min_piat_ms', 'dst2src_mean_piat_ms', 'dst2src_stddev_piat_ms',\n",
    "       'dst2src_max_piat_ms', 'bidirectional_syn_packets',\n",
    "       'bidirectional_cwr_packets', 'bidirectional_ece_packets',\n",
    "       'bidirectional_urg_packets', 'bidirectional_ack_packets',\n",
    "       'bidirectional_psh_packets', 'bidirectional_rst_packets',\n",
    "       'bidirectional_fin_packets', 'src2dst_syn_packets',\n",
    "       'src2dst_cwr_packets', 'src2dst_ece_packets', 'src2dst_urg_packets',\n",
    "       'src2dst_ack_packets', 'src2dst_psh_packets', 'src2dst_rst_packets',\n",
    "       'src2dst_fin_packets', 'dst2src_syn_packets', 'dst2src_cwr_packets',\n",
    "       'dst2src_ece_packets', 'dst2src_urg_packets', 'dst2src_ack_packets',\n",
    "       'dst2src_psh_packets', 'dst2src_rst_packets', 'dst2src_fin_packets',\n",
    "       'application_name', 'application_category_name',\n",
    "       'application_is_guessed', 'requested_server_name', 'client_fingerprint',\n",
    "       'server_fingerprint', 'user_agent', 'content_type', 'device', 'label']\n",
    "\n",
    "len(colname)"
   ]
  },
  {
   "cell_type": "code",
   "execution_count": 2,
   "metadata": {},
   "outputs": [
    {
     "data": {
      "text/plain": [
       "87"
      ]
     },
     "execution_count": 2,
     "metadata": {},
     "output_type": "execute_result"
    }
   ],
   "source": [
    "cname=['id', 'expiration_id','src_ip', 'src_mac', 'src_oui','sp',\n",
    "       'dst_ip', 'dst_mac', 'dst_oui','dp', 'ptcl', 'ipv', \n",
    "       'vln','tnnl', 'bidirectional_first_seen_ms',\n",
    "       'bidirectional_last_seen_ms', 'bi_dur',\n",
    "       'bi_pkt', 'bi_byte', 'src2dst_first_seen_ms',\n",
    "       'src2dst_last_seen_ms', 's2d_dur', 's2d',\n",
    "       's2d_byte', 'dst2src_first_seen_ms', 'dst2src_last_seen_ms',\n",
    "       'd2s_dur', 'd2s', 'd2s_byte', 'bi_min_ps', 'bi_mean_ps',\n",
    "       'bi_std_ps', 'bi_max_ps', 's2d_min_ps',\n",
    "       's2d_mean_ps', 's2d_std_ps', 's2d_max_ps',\n",
    "       'd2s_min_ps', 'd2s_mean_ps', 'd2s_std_ps',\n",
    "       'd2s_max_ps', 'bi_min_pi_ms',\n",
    "       'bi_mean_pi_ms', 'bi_std_pi_ms',\n",
    "       'bi_max_pi_ms', 's2d_min_pi_ms',\n",
    "       's2d_mean_pi_ms', 's2d_std_pi_ms', 's2d_max_pi_ms',\n",
    "       'd2s_min_pi_ms', 'd2s_mean_pi_ms', 'd2s_std_pi_ms',\n",
    "       'd2s_max_pi_ms', 'bi_syn',\n",
    "       'bi_cwr', 'bi_ece',\n",
    "       'bi_urg', 'bi_ack',\n",
    "       'bi_psh', 'bi_rst',\n",
    "       'bi_fin', 's2d_syn',\n",
    "       's2d_cwr', 's2d_ece', 's2d_urg',\n",
    "       's2d_ack', 's2d_psh', 's2d_rst',\n",
    "       's2d_fin', 'd2s_syn', 'd2s_cwr',\n",
    "       'd2s_ece', 'd2s_urg', 'd2s_ack',\n",
    "       'd2s_psh', 'd2s_rst', 'd2s_fin',\n",
    "       'app_name', 'app_cat', 'application_is_guessed',\n",
    "       'req_server_name', 'client_fingerprint', 'server_fingerprint',\n",
    "       'user_agent', 'content_type', 'device', 'label']\n",
    "\n",
    "len(cname)"
   ]
  },
  {
   "cell_type": "code",
   "execution_count": 3,
   "id": "1c052a37",
   "metadata": {},
   "outputs": [],
   "source": [
    "source = \"/mnt/c/Users/iotfs/OneDrive - Universiti Malaya/dataset/Dataset_csv/unsw/nfstream/dataset.csv\""
   ]
  },
  {
   "cell_type": "code",
   "execution_count": 4,
   "id": "f11fcdbc",
   "metadata": {},
   "outputs": [
    {
     "name": "stderr",
     "output_type": "stream",
     "text": [
      "/tmp/ipykernel_16018/3254069501.py:5: DtypeWarning: Columns (80,81,82,83,84) have mixed types. Specify dtype option on import or set low_memory=False.\n",
      "  df = pd.read_csv(open(source,'r'),delimiter=',',names=cname,skiprows=1)\n"
     ]
    }
   ],
   "source": [
    "#parse from nfstream\n",
    "#df = NFStreamer(source,statistical_analysis=True,accounting_mode=1,idle_timeout=10,active_timeout=30,).to_pandas()\n",
    "\n",
    "#load csv\n",
    "df = pd.read_csv(open(source,'r'),delimiter=',',names=cname,skiprows=1)\n",
    "#df.head()"
   ]
  },
  {
   "cell_type": "code",
   "execution_count": 5,
   "metadata": {},
   "outputs": [],
   "source": [
    "def drop_columns(df):\n",
    "    return df.drop(columns=[\"id\",\"expiration_id\",\"src_ip\",\n",
    "    \"src_mac\",\"src_oui\",\"dst_ip\",\"dst_mac\",\"dst_oui\",\"application_is_guessed\",\"bidirectional_first_seen_ms\",\n",
    "    \"bidirectional_last_seen_ms\",\"src2dst_first_seen_ms\",\"src2dst_last_seen_ms\",\"dst2src_first_seen_ms\",\n",
    "    \"dst2src_last_seen_ms\",\"user_agent\"#,\"device\",\"label\"\n",
    "    ])\n",
    "\n",
    "# df1=drop_columns(df)\n"
   ]
  },
  {
   "cell_type": "code",
   "execution_count": 6,
   "id": "413cccc4",
   "metadata": {},
   "outputs": [],
   "source": [
    "df_X=drop_columns(df)"
   ]
  },
  {
   "cell_type": "code",
   "execution_count": 7,
   "metadata": {},
   "outputs": [],
   "source": [
    "df_X=df_X.round(decimals=2)\n"
   ]
  },
  {
   "cell_type": "markdown",
   "metadata": {},
   "source": [
    "#### 2 - Imbalance data"
   ]
  },
  {
   "cell_type": "code",
   "execution_count": 8,
   "metadata": {},
   "outputs": [
    {
     "data": {
      "text/plain": [
       "<AxesSubplot:>"
      ]
     },
     "execution_count": 8,
     "metadata": {},
     "output_type": "execute_result"
    },
    {
     "data": {
      "image/png": "[encoded data removed]",
      "text/plain": [
       "<Figure size 432x288 with 1 Axes>"
      ]
     },
     "metadata": {
      "needs_background": "light"
     },
     "output_type": "display_data"
    }
   ],
   "source": [
    "def counter_device(df):\n",
    "    return df['device'].value_counts()\n",
    "\n",
    "counter_device(df_X).plot(kind='bar')"
   ]
  },
  {
   "cell_type": "code",
   "execution_count": 9,
   "metadata": {},
   "outputs": [],
   "source": [
    "df_Y=df['device']"
   ]
  },
  {
   "cell_type": "code",
   "execution_count": 10,
   "metadata": {},
   "outputs": [],
   "source": [
    "sampling_strategy_rus ={\"Belkin wemo motion sensor\":50000,\n",
    "\"Belkin Wemo switch\":50000,\n",
    "\"Insteon Camera\":40000,\n",
    "\"HP Printer\":50000,\n",
    "\"Samsung SmartCam\":40000,\n",
    "\"Amazon Echo\":50000,\n",
    "\"MacBook\":50000,\n",
    "\"Netatmo Welcome\":50000,\n",
    "\"Samsung Galaxy Tab\":50000,\n",
    "\"Laptop\":50000,\n",
    "\"Light Bulbs LiFX Smart Bulb\" :50000,\n",
    "\"Triby Speaker\":29138,\n",
    "\"Netatmo weather station\":28888,\n",
    "\"Smart Things\":25664,\n",
    "\"TP-Link Day Night Cloud camera\":16759,\n",
    "\"Withings Aura smart sleep sensor\":15903,\n",
    "\"PIX-STAR Photo-frame\":14043,\n",
    "\"Android Phone 2\":13284,\n",
    "\"Withings Smart Baby Monitor\":11947,\n",
    "\"TP-Link Smart plug\":8766,\n",
    "\"Dropcam\":4007,\n",
    "\"Android Phone 1\":2409,\n",
    "\"MacBook Iphone\":2334,\n",
    "\"IPhone\":1317,\n",
    "\"iHome Power Plug\":1183,\n",
    "\"NEST Protect smoke alarm\":811,\n",
    "\"Withings Smart scale\":599,\n",
    "\"IoT Camera1\":128,\n",
    "\"Nest Dropcam\":82,\n",
    "\"Blipcare Blood Pressure meter\":19}"
   ]
  },
  {
   "cell_type": "code",
   "execution_count": 11,
   "metadata": {},
   "outputs": [],
   "source": [
    "sampling_strategy_ros ={\"Belkin wemo motion sensor\":50000,\n",
    "\"Belkin Wemo switch\":50000,\n",
    "\"Insteon Camera\":40000,\n",
    "\"HP Printer\":50000,\n",
    "\"Samsung SmartCam\":40000,\n",
    "\"Amazon Echo\":50000,\n",
    "\"MacBook\":50000,\n",
    "\"Netatmo Welcome\":50000,\n",
    "\"Samsung Galaxy Tab\":50000,\n",
    "\"Laptop\":50000,\n",
    "\"Light Bulbs LiFX Smart Bulb\" :50000,\n",
    "\"Triby Speaker\":29138,\n",
    "\"Netatmo weather station\":28888,\n",
    "\"Smart Things\":25664,\n",
    "\"TP-Link Day Night Cloud camera\":16759,\n",
    "\"Withings Aura smart sleep sensor\":15903,\n",
    "\"PIX-STAR Photo-frame\":14043,\n",
    "\"Android Phone 2\":13284,\n",
    "\"Withings Smart Baby Monitor\":11947,\n",
    "\"TP-Link Smart plug\":8766,\n",
    "\"Dropcam\":4007,\n",
    "\"Android Phone 1\":2409,\n",
    "\"MacBook Iphone\":2500,\n",
    "\"IPhone\":1500,\n",
    "\"iHome Power Plug\":1183,\n",
    "\"NEST Protect smoke alarm\":1500,\n",
    "\"Withings Smart scale\":1000,\n",
    "\"IoT Camera1\":2000,\n",
    "\"Nest Dropcam\":1500,\n",
    "\"Blipcare Blood Pressure meter\":1000}"
   ]
  },
  {
   "cell_type": "code",
   "execution_count": 12,
   "metadata": {},
   "outputs": [],
   "source": [
    "from imblearn.under_sampling import RandomUnderSampler\n",
    "rus = RandomUnderSampler(sampling_strategy=sampling_strategy_rus,random_state=42)\n",
    "df_x, df_y = rus.fit_resample(df_X, df_Y)"
   ]
  },
  {
   "cell_type": "code",
   "execution_count": 13,
   "metadata": {},
   "outputs": [],
   "source": [
    "from imblearn.over_sampling import RandomOverSampler\n",
    "ros = RandomOverSampler(sampling_strategy=sampling_strategy_ros,random_state=42)\n",
    "df_x, df_y = ros.fit_resample(df_x, df_y)"
   ]
  },
  {
   "cell_type": "markdown",
   "metadata": {},
   "source": [
    "#### 3 - Add Label"
   ]
  },
  {
   "cell_type": "code",
   "execution_count": 14,
   "metadata": {},
   "outputs": [],
   "source": [
    "def add_label(df):\n",
    "    devicelist = pd.read_csv(\"/mnt/c/Users/iotfs/OneDrive - Universiti Malaya/dataset/Dataset_csv/unsw/unsw_devicelist.csv\", sep=',')\n",
    "    print(\"Category:\",devicelist.Category.unique())\n",
    "    device_dict = dict(devicelist.drop(columns=['eth.src', 'Connection','Label']).values)\n",
    "    df['category']= df['device'].map(device_dict)\n",
    "    return df\n",
    "\n",
    "# df1=add_label(test)"
   ]
  },
  {
   "cell_type": "code",
   "execution_count": 17,
   "metadata": {},
   "outputs": [
    {
     "data": {
      "text/plain": [
       "Amazon Echo                         50000\n",
       "HP Printer                          50000\n",
       "Samsung Galaxy Tab                  50000\n",
       "Netatmo Welcome                     50000\n",
       "MacBook                             50000\n",
       "Laptop                              50000\n",
       "Light Bulbs LiFX Smart Bulb         50000\n",
       "Belkin wemo motion sensor           50000\n",
       "Belkin Wemo switch                  50000\n",
       "Insteon Camera                      40000\n",
       "Samsung SmartCam                    40000\n",
       "Triby Speaker                       29138\n",
       "Netatmo weather station             28888\n",
       "Smart Things                        25664\n",
       "TP-Link Day Night Cloud camera      16759\n",
       "Withings Aura smart sleep sensor    15903\n",
       "PIX-STAR Photo-frame                14043\n",
       "Android Phone 2                     13284\n",
       "Withings Smart Baby Monitor         11947\n",
       "TP-Link Smart plug                   8766\n",
       "Dropcam                              4007\n",
       "MacBook Iphone                       2500\n",
       "Android Phone 1                      2409\n",
       "IoT Camera1                          2000\n",
       "NEST Protect smoke alarm             1500\n",
       "Nest Dropcam                         1500\n",
       "IPhone                               1500\n",
       "iHome Power Plug                     1183\n",
       "Blipcare Blood Pressure meter        1000\n",
       "Withings Smart scale                 1000\n",
       "Name: device, dtype: int64"
      ]
     },
     "execution_count": 17,
     "metadata": {},
     "output_type": "execute_result"
    }
   ],
   "source": [
    "df_y.value_counts()#/len(df_y)*100"
   ]
  },
  {
   "cell_type": "code",
   "execution_count": 15,
   "metadata": {},
   "outputs": [
    {
     "name": "stdout",
     "output_type": "stream",
     "text": [
      "Category: ['Hub' 'Non IoT' 'Energy Management' 'Health Monitor' 'Camera'\n",
      " 'Appliances']\n"
     ]
    },
    {
     "data": {
      "text/plain": [
       "Non IoT              23.800160\n",
       "Camera               23.312075\n",
       "Energy Management    22.433523\n",
       "Appliances           13.069029\n",
       "Hub                  10.612196\n",
       "Health Monitor        6.773017\n",
       "Name: category, dtype: float64"
      ]
     },
     "execution_count": 15,
     "metadata": {},
     "output_type": "execute_result"
    }
   ],
   "source": [
    "temp=pd.DataFrame()\n",
    "temp['device']=df_y\n",
    "temp = add_label(temp)\n",
    "temp.category.value_counts()/len(df_y)*100"
   ]
  },
  {
   "cell_type": "code",
   "execution_count": 16,
   "metadata": {},
   "outputs": [
    {
     "data": {
      "text/plain": [
       "(712991, 72)"
      ]
     },
     "execution_count": 16,
     "metadata": {},
     "output_type": "execute_result"
    }
   ],
   "source": [
    "df1=df_x\n",
    "df1['category']=temp['category']\n",
    "df1.shape"
   ]
  },
  {
   "cell_type": "code",
   "execution_count": 17,
   "metadata": {},
   "outputs": [],
   "source": [
    "df1 = df1.fillna(0)"
   ]
  },
  {
   "cell_type": "markdown",
   "metadata": {},
   "source": [
    "#### 4 - Save dataset as csv"
   ]
  },
  {
   "cell_type": "code",
   "execution_count": 18,
   "id": "4736bae2",
   "metadata": {},
   "outputs": [],
   "source": [
    "def save_csv(df): \n",
    "    df.to_csv(\"/mnt/c/Users/iotfs/OneDrive - Universiti Malaya/dataset/Dataset_csv/unsw/nfstream/dataset_balanced.csv\", index=False, sep='\\t',header=True)\n",
    "\n",
    "save_csv(df1)"
   ]
  },
  {
   "cell_type": "code",
   "execution_count": 21,
   "metadata": {},
   "outputs": [],
   "source": [
    "del [[df,df_X,df_Y,temp,df_x,df_y]]"
   ]
  },
  {
   "cell_type": "markdown",
   "id": "b3676f61",
   "metadata": {},
   "source": [
    "#### 5 - Tagging"
   ]
  },
  {
   "cell_type": "code",
   "execution_count": 2,
   "metadata": {},
   "outputs": [
    {
     "name": "stderr",
     "output_type": "stream",
     "text": [
      "/tmp/ipykernel_16052/2999280701.py:3: DtypeWarning: Columns (67,68) have mixed types. Specify dtype option on import or set low_memory=False.\n",
      "  return pd.read_csv(open(source,'r'),delimiter='\\t')\n"
     ]
    },
    {
     "data": {
      "text/plain": [
       "Index(['sp', 'dp', 'ptcl', 'ipv', 'vln', 'tnnl', 'bi_dur', 'bi_pkt', 'bi_byte',\n",
       "       's2d_dur', 's2d', 's2d_byte', 'd2s_dur', 'd2s', 'd2s_byte', 'bi_min_ps',\n",
       "       'bi_mean_ps', 'bi_std_ps', 'bi_max_ps', 's2d_min_ps', 's2d_mean_ps',\n",
       "       's2d_std_ps', 's2d_max_ps', 'd2s_min_ps', 'd2s_mean_ps', 'd2s_std_ps',\n",
       "       'd2s_max_ps', 'bi_min_pi_ms', 'bi_mean_pi_ms', 'bi_std_pi_ms',\n",
       "       'bi_max_pi_ms', 's2d_min_pi_ms', 's2d_mean_pi_ms', 's2d_std_pi_ms',\n",
       "       's2d_max_pi_ms', 'd2s_min_pi_ms', 'd2s_mean_pi_ms', 'd2s_std_pi_ms',\n",
       "       'd2s_max_pi_ms', 'bi_syn', 'bi_cwr', 'bi_ece', 'bi_urg', 'bi_ack',\n",
       "       'bi_psh', 'bi_rst', 'bi_fin', 's2d_syn', 's2d_cwr', 's2d_ece',\n",
       "       's2d_urg', 's2d_ack', 's2d_psh', 's2d_rst', 's2d_fin', 'd2s_syn',\n",
       "       'd2s_cwr', 'd2s_ece', 'd2s_urg', 'd2s_ack', 'd2s_psh', 'd2s_rst',\n",
       "       'd2s_fin', 'app_name', 'app_cat', 'req_server_name',\n",
       "       'client_fingerprint', 'server_fingerprint', 'content_type', 'device',\n",
       "       'label', 'category'],\n",
       "      dtype='object')"
      ]
     },
     "execution_count": 2,
     "metadata": {},
     "output_type": "execute_result"
    }
   ],
   "source": [
    "def load_csv():\n",
    "    source=\"/mnt/c/Users/iotfs/OneDrive - Universiti Malaya/dataset/Dataset_csv/unsw/nfstream/dataset_balanced.csv\"\n",
    "    return pd.read_csv(open(source,'r'),delimiter='\\t')\n",
    "df1=load_csv()\n",
    "df1.columns"
   ]
  },
  {
   "cell_type": "code",
   "execution_count": 7,
   "metadata": {},
   "outputs": [],
   "source": [
    "#shuffle\n",
    "df1=df1.sample(frac=1,ignore_index=True)\n",
    "df1.head()"
   ]
  },
  {
   "cell_type": "code",
   "execution_count": 11,
   "metadata": {},
   "outputs": [
    {
     "data": {
      "text/html": [
       "<div>\n",
       "<style scoped>\n",
       "    .dataframe tbody tr th:only-of-type {\n",
       "        vertical-align: middle;\n",
       "    }\n",
       "\n",
       "    .dataframe tbody tr th {\n",
       "        vertical-align: top;\n",
       "    }\n",
       "\n",
       "    .dataframe thead th {\n",
       "        text-align: right;\n",
       "    }\n",
       "</style>\n",
       "<table border=\"1\" class=\"dataframe\">\n",
       "  <thead>\n",
       "    <tr style=\"text-align: right;\">\n",
       "      <th></th>\n",
       "      <th>sp</th>\n",
       "      <th>dp</th>\n",
       "      <th>ptcl</th>\n",
       "      <th>ipv</th>\n",
       "      <th>vln</th>\n",
       "      <th>tnnl</th>\n",
       "      <th>bi_dur</th>\n",
       "      <th>bi_pkt</th>\n",
       "      <th>bi_byte</th>\n",
       "      <th>s2d_dur</th>\n",
       "      <th>s2d</th>\n",
       "      <th>s2d_byte</th>\n",
       "      <th>d2s_dur</th>\n",
       "      <th>d2s</th>\n",
       "      <th>d2s_byte</th>\n",
       "      <th>bi_min_ps</th>\n",
       "      <th>bi_mean_ps</th>\n",
       "      <th>bi_std_ps</th>\n",
       "      <th>bi_max_ps</th>\n",
       "      <th>s2d_min_ps</th>\n",
       "      <th>s2d_mean_ps</th>\n",
       "      <th>s2d_std_ps</th>\n",
       "      <th>s2d_max_ps</th>\n",
       "      <th>d2s_min_ps</th>\n",
       "      <th>d2s_mean_ps</th>\n",
       "      <th>d2s_std_ps</th>\n",
       "      <th>d2s_max_ps</th>\n",
       "      <th>bi_min_pi_ms</th>\n",
       "      <th>bi_mean_pi_ms</th>\n",
       "      <th>bi_std_pi_ms</th>\n",
       "      <th>bi_max_pi_ms</th>\n",
       "      <th>s2d_min_pi_ms</th>\n",
       "      <th>s2d_mean_pi_ms</th>\n",
       "      <th>s2d_std_pi_ms</th>\n",
       "      <th>s2d_max_pi_ms</th>\n",
       "      <th>d2s_min_pi_ms</th>\n",
       "      <th>d2s_mean_pi_ms</th>\n",
       "      <th>d2s_std_pi_ms</th>\n",
       "      <th>d2s_max_pi_ms</th>\n",
       "      <th>bi_syn</th>\n",
       "      <th>bi_cwr</th>\n",
       "      <th>bi_ece</th>\n",
       "      <th>bi_urg</th>\n",
       "      <th>bi_ack</th>\n",
       "      <th>bi_psh</th>\n",
       "      <th>bi_rst</th>\n",
       "      <th>bi_fin</th>\n",
       "      <th>s2d_syn</th>\n",
       "      <th>s2d_cwr</th>\n",
       "      <th>s2d_ece</th>\n",
       "      <th>s2d_urg</th>\n",
       "      <th>s2d_ack</th>\n",
       "      <th>s2d_psh</th>\n",
       "      <th>s2d_rst</th>\n",
       "      <th>s2d_fin</th>\n",
       "      <th>d2s_syn</th>\n",
       "      <th>d2s_cwr</th>\n",
       "      <th>d2s_ece</th>\n",
       "      <th>d2s_urg</th>\n",
       "      <th>d2s_ack</th>\n",
       "      <th>d2s_psh</th>\n",
       "      <th>d2s_rst</th>\n",
       "      <th>d2s_fin</th>\n",
       "      <th>app_name</th>\n",
       "      <th>app_cat</th>\n",
       "      <th>req_server_name</th>\n",
       "      <th>client_fingerprint</th>\n",
       "      <th>server_fingerprint</th>\n",
       "      <th>content_type</th>\n",
       "    </tr>\n",
       "  </thead>\n",
       "  <tbody>\n",
       "    <tr>\n",
       "      <th>0</th>\n",
       "      <td>sp 4873</td>\n",
       "      <td>dp 3478</td>\n",
       "      <td>ptcl 6</td>\n",
       "      <td>ipv 4</td>\n",
       "      <td>vln 0</td>\n",
       "      <td>tnnl 0</td>\n",
       "      <td>bi_dur 221</td>\n",
       "      <td>bi_pkt 3</td>\n",
       "      <td>bi_byte 384</td>\n",
       "      <td>s2d_dur 221</td>\n",
       "      <td>s2d 2</td>\n",
       "      <td>s2d_byte 252</td>\n",
       "      <td>d2s_dur 0</td>\n",
       "      <td>d2s 1</td>\n",
       "      <td>d2s_byte 132</td>\n",
       "      <td>bi_min_ps 52</td>\n",
       "      <td>bi_mean_ps 128.0</td>\n",
       "      <td>bi_std_ps 74.08</td>\n",
       "      <td>bi_max_ps 200</td>\n",
       "      <td>s2d_min_ps 52</td>\n",
       "      <td>s2d_mean_ps 126.0</td>\n",
       "      <td>s2d_std_ps 104.65</td>\n",
       "      <td>s2d_max_ps 200</td>\n",
       "      <td>d2s_min_ps 132</td>\n",
       "      <td>d2s_mean_ps 132.0</td>\n",
       "      <td>d2s_std_ps 0.0</td>\n",
       "      <td>d2s_max_ps 132</td>\n",
       "      <td>bi_min_pi_ms 5</td>\n",
       "      <td>bi_mean_pi_ms 110.5</td>\n",
       "      <td>bi_std_pi_ms 149.2</td>\n",
       "      <td>bi_max_pi_ms 216</td>\n",
       "      <td>s2d_min_pi_ms 221</td>\n",
       "      <td>s2d_mean_pi_ms 221.0</td>\n",
       "      <td>s2d_std_pi_ms 0.0</td>\n",
       "      <td>s2d_max_pi_ms 221</td>\n",
       "      <td>d2s_min_pi_ms 0</td>\n",
       "      <td>d2s_mean_pi_ms 0.0</td>\n",
       "      <td>d2s_std_pi_ms 0.0</td>\n",
       "      <td>d2s_max_pi_ms 0</td>\n",
       "      <td>bi_syn 0</td>\n",
       "      <td>bi_cwr 0</td>\n",
       "      <td>bi_ece 0</td>\n",
       "      <td>bi_urg 0</td>\n",
       "      <td>bi_ack 3</td>\n",
       "      <td>bi_psh 2</td>\n",
       "      <td>bi_rst 0</td>\n",
       "      <td>bi_fin 0</td>\n",
       "      <td>s2d_syn 0</td>\n",
       "      <td>s2d_cwr 0</td>\n",
       "      <td>s2d_ece 0</td>\n",
       "      <td>s2d_urg 0</td>\n",
       "      <td>s2d_ack 2</td>\n",
       "      <td>s2d_psh 1</td>\n",
       "      <td>s2d_rst 0</td>\n",
       "      <td>s2d_fin 0</td>\n",
       "      <td>d2s_syn 0</td>\n",
       "      <td>d2s_cwr 0</td>\n",
       "      <td>d2s_ece 0</td>\n",
       "      <td>d2s_urg 0</td>\n",
       "      <td>d2s_ack 1</td>\n",
       "      <td>d2s_psh 1</td>\n",
       "      <td>d2s_rst 0</td>\n",
       "      <td>d2s_fin 0</td>\n",
       "      <td>app_name Amazon</td>\n",
       "      <td>app_cat Web</td>\n",
       "      <td>req_server_name 0</td>\n",
       "      <td>client_fingerprint 0</td>\n",
       "      <td>server_fingerprint 0</td>\n",
       "      <td>content_type 0</td>\n",
       "    </tr>\n",
       "    <tr>\n",
       "      <th>1</th>\n",
       "      <td>sp 62150</td>\n",
       "      <td>dp 3702</td>\n",
       "      <td>ptcl 17</td>\n",
       "      <td>ipv 4</td>\n",
       "      <td>vln 0</td>\n",
       "      <td>tnnl 0</td>\n",
       "      <td>bi_dur 226</td>\n",
       "      <td>bi_pkt 2</td>\n",
       "      <td>bi_byte 1368</td>\n",
       "      <td>s2d_dur 226</td>\n",
       "      <td>s2d 2</td>\n",
       "      <td>s2d_byte 1368</td>\n",
       "      <td>d2s_dur 0</td>\n",
       "      <td>d2s 0</td>\n",
       "      <td>d2s_byte 0</td>\n",
       "      <td>bi_min_ps 684</td>\n",
       "      <td>bi_mean_ps 684.0</td>\n",
       "      <td>bi_std_ps 0.0</td>\n",
       "      <td>bi_max_ps 684</td>\n",
       "      <td>s2d_min_ps 684</td>\n",
       "      <td>s2d_mean_ps 684.0</td>\n",
       "      <td>s2d_std_ps 0.0</td>\n",
       "      <td>s2d_max_ps 684</td>\n",
       "      <td>d2s_min_ps 0</td>\n",
       "      <td>d2s_mean_ps 0.0</td>\n",
       "      <td>d2s_std_ps 0.0</td>\n",
       "      <td>d2s_max_ps 0</td>\n",
       "      <td>bi_min_pi_ms 226</td>\n",
       "      <td>bi_mean_pi_ms 226.0</td>\n",
       "      <td>bi_std_pi_ms 0.0</td>\n",
       "      <td>bi_max_pi_ms 226</td>\n",
       "      <td>s2d_min_pi_ms 226</td>\n",
       "      <td>s2d_mean_pi_ms 226.0</td>\n",
       "      <td>s2d_std_pi_ms 0.0</td>\n",
       "      <td>s2d_max_pi_ms 226</td>\n",
       "      <td>d2s_min_pi_ms 0</td>\n",
       "      <td>d2s_mean_pi_ms 0.0</td>\n",
       "      <td>d2s_std_pi_ms 0.0</td>\n",
       "      <td>d2s_max_pi_ms 0</td>\n",
       "      <td>bi_syn 0</td>\n",
       "      <td>bi_cwr 0</td>\n",
       "      <td>bi_ece 0</td>\n",
       "      <td>bi_urg 0</td>\n",
       "      <td>bi_ack 0</td>\n",
       "      <td>bi_psh 0</td>\n",
       "      <td>bi_rst 0</td>\n",
       "      <td>bi_fin 0</td>\n",
       "      <td>s2d_syn 0</td>\n",
       "      <td>s2d_cwr 0</td>\n",
       "      <td>s2d_ece 0</td>\n",
       "      <td>s2d_urg 0</td>\n",
       "      <td>s2d_ack 0</td>\n",
       "      <td>s2d_psh 0</td>\n",
       "      <td>s2d_rst 0</td>\n",
       "      <td>s2d_fin 0</td>\n",
       "      <td>d2s_syn 0</td>\n",
       "      <td>d2s_cwr 0</td>\n",
       "      <td>d2s_ece 0</td>\n",
       "      <td>d2s_urg 0</td>\n",
       "      <td>d2s_ack 0</td>\n",
       "      <td>d2s_psh 0</td>\n",
       "      <td>d2s_rst 0</td>\n",
       "      <td>d2s_fin 0</td>\n",
       "      <td>app_name WSD</td>\n",
       "      <td>app_cat Network</td>\n",
       "      <td>req_server_name 0</td>\n",
       "      <td>client_fingerprint 0</td>\n",
       "      <td>server_fingerprint 0</td>\n",
       "      <td>content_type 0</td>\n",
       "    </tr>\n",
       "  </tbody>\n",
       "</table>\n",
       "</div>"
      ],
      "text/plain": [
       "         sp       dp     ptcl    ipv    vln    tnnl      bi_dur    bi_pkt  \\\n",
       "0   sp 4873  dp 3478   ptcl 6  ipv 4  vln 0  tnnl 0  bi_dur 221  bi_pkt 3   \n",
       "1  sp 62150  dp 3702  ptcl 17  ipv 4  vln 0  tnnl 0  bi_dur 226  bi_pkt 2   \n",
       "\n",
       "        bi_byte      s2d_dur    s2d       s2d_byte    d2s_dur    d2s  \\\n",
       "0   bi_byte 384  s2d_dur 221  s2d 2   s2d_byte 252  d2s_dur 0  d2s 1   \n",
       "1  bi_byte 1368  s2d_dur 226  s2d 2  s2d_byte 1368  d2s_dur 0  d2s 0   \n",
       "\n",
       "       d2s_byte      bi_min_ps        bi_mean_ps        bi_std_ps  \\\n",
       "0  d2s_byte 132   bi_min_ps 52  bi_mean_ps 128.0  bi_std_ps 74.08   \n",
       "1    d2s_byte 0  bi_min_ps 684  bi_mean_ps 684.0    bi_std_ps 0.0   \n",
       "\n",
       "       bi_max_ps      s2d_min_ps        s2d_mean_ps         s2d_std_ps  \\\n",
       "0  bi_max_ps 200   s2d_min_ps 52  s2d_mean_ps 126.0  s2d_std_ps 104.65   \n",
       "1  bi_max_ps 684  s2d_min_ps 684  s2d_mean_ps 684.0     s2d_std_ps 0.0   \n",
       "\n",
       "       s2d_max_ps      d2s_min_ps        d2s_mean_ps      d2s_std_ps  \\\n",
       "0  s2d_max_ps 200  d2s_min_ps 132  d2s_mean_ps 132.0  d2s_std_ps 0.0   \n",
       "1  s2d_max_ps 684    d2s_min_ps 0    d2s_mean_ps 0.0  d2s_std_ps 0.0   \n",
       "\n",
       "       d2s_max_ps      bi_min_pi_ms        bi_mean_pi_ms        bi_std_pi_ms  \\\n",
       "0  d2s_max_ps 132    bi_min_pi_ms 5  bi_mean_pi_ms 110.5  bi_std_pi_ms 149.2   \n",
       "1    d2s_max_ps 0  bi_min_pi_ms 226  bi_mean_pi_ms 226.0    bi_std_pi_ms 0.0   \n",
       "\n",
       "       bi_max_pi_ms      s2d_min_pi_ms        s2d_mean_pi_ms  \\\n",
       "0  bi_max_pi_ms 216  s2d_min_pi_ms 221  s2d_mean_pi_ms 221.0   \n",
       "1  bi_max_pi_ms 226  s2d_min_pi_ms 226  s2d_mean_pi_ms 226.0   \n",
       "\n",
       "       s2d_std_pi_ms      s2d_max_pi_ms    d2s_min_pi_ms      d2s_mean_pi_ms  \\\n",
       "0  s2d_std_pi_ms 0.0  s2d_max_pi_ms 221  d2s_min_pi_ms 0  d2s_mean_pi_ms 0.0   \n",
       "1  s2d_std_pi_ms 0.0  s2d_max_pi_ms 226  d2s_min_pi_ms 0  d2s_mean_pi_ms 0.0   \n",
       "\n",
       "       d2s_std_pi_ms    d2s_max_pi_ms    bi_syn    bi_cwr    bi_ece    bi_urg  \\\n",
       "0  d2s_std_pi_ms 0.0  d2s_max_pi_ms 0  bi_syn 0  bi_cwr 0  bi_ece 0  bi_urg 0   \n",
       "1  d2s_std_pi_ms 0.0  d2s_max_pi_ms 0  bi_syn 0  bi_cwr 0  bi_ece 0  bi_urg 0   \n",
       "\n",
       "     bi_ack    bi_psh    bi_rst    bi_fin    s2d_syn    s2d_cwr    s2d_ece  \\\n",
       "0  bi_ack 3  bi_psh 2  bi_rst 0  bi_fin 0  s2d_syn 0  s2d_cwr 0  s2d_ece 0   \n",
       "1  bi_ack 0  bi_psh 0  bi_rst 0  bi_fin 0  s2d_syn 0  s2d_cwr 0  s2d_ece 0   \n",
       "\n",
       "     s2d_urg    s2d_ack    s2d_psh    s2d_rst    s2d_fin    d2s_syn  \\\n",
       "0  s2d_urg 0  s2d_ack 2  s2d_psh 1  s2d_rst 0  s2d_fin 0  d2s_syn 0   \n",
       "1  s2d_urg 0  s2d_ack 0  s2d_psh 0  s2d_rst 0  s2d_fin 0  d2s_syn 0   \n",
       "\n",
       "     d2s_cwr    d2s_ece    d2s_urg    d2s_ack    d2s_psh    d2s_rst  \\\n",
       "0  d2s_cwr 0  d2s_ece 0  d2s_urg 0  d2s_ack 1  d2s_psh 1  d2s_rst 0   \n",
       "1  d2s_cwr 0  d2s_ece 0  d2s_urg 0  d2s_ack 0  d2s_psh 0  d2s_rst 0   \n",
       "\n",
       "     d2s_fin         app_name          app_cat    req_server_name  \\\n",
       "0  d2s_fin 0  app_name Amazon      app_cat Web  req_server_name 0   \n",
       "1  d2s_fin 0     app_name WSD  app_cat Network  req_server_name 0   \n",
       "\n",
       "     client_fingerprint    server_fingerprint    content_type  \n",
       "0  client_fingerprint 0  server_fingerprint 0  content_type 0  \n",
       "1  client_fingerprint 0  server_fingerprint 0  content_type 0  "
      ]
     },
     "execution_count": 11,
     "metadata": {},
     "output_type": "execute_result"
    }
   ],
   "source": [
    "def tagging(df,delimiter=' '):\n",
    "    df=df.loc[:, ~df.columns.isin(['device','label','category'])].astype(str).apply(lambda x : x.name+delimiter+x)\n",
    "    return df\n",
    "\n",
    "df_tag = tagging(df1)\n",
    "df_tag.head(2)"
   ]
  },
  {
   "cell_type": "markdown",
   "metadata": {},
   "source": [
    "#### 6 - Format as json"
   ]
  },
  {
   "cell_type": "code",
   "execution_count": 12,
   "metadata": {},
   "outputs": [
    {
     "data": {
      "text/html": [
       "<div>\n",
       "<style scoped>\n",
       "    .dataframe tbody tr th:only-of-type {\n",
       "        vertical-align: middle;\n",
       "    }\n",
       "\n",
       "    .dataframe tbody tr th {\n",
       "        vertical-align: top;\n",
       "    }\n",
       "\n",
       "    .dataframe thead th {\n",
       "        text-align: right;\n",
       "    }\n",
       "</style>\n",
       "<table border=\"1\" class=\"dataframe\">\n",
       "  <thead>\n",
       "    <tr style=\"text-align: right;\">\n",
       "      <th></th>\n",
       "      <th>text</th>\n",
       "      <th>device</th>\n",
       "      <th>category</th>\n",
       "      <th>label</th>\n",
       "    </tr>\n",
       "  </thead>\n",
       "  <tbody>\n",
       "    <tr>\n",
       "      <th>0</th>\n",
       "      <td>sp 4873 dp 3478 ptcl 6 ipv 4 vln 0 tnnl 0 bi_d...</td>\n",
       "      <td>Belkin Wemo switch</td>\n",
       "      <td>Energy Management</td>\n",
       "      <td>1</td>\n",
       "    </tr>\n",
       "  </tbody>\n",
       "</table>\n",
       "</div>"
      ],
      "text/plain": [
       "                                                text              device  \\\n",
       "0  sp 4873 dp 3478 ptcl 6 ipv 4 vln 0 tnnl 0 bi_d...  Belkin Wemo switch   \n",
       "\n",
       "            category  label  \n",
       "0  Energy Management      1  "
      ]
     },
     "execution_count": 12,
     "metadata": {},
     "output_type": "execute_result"
    }
   ],
   "source": [
    "def prepare_json(df,df1):\n",
    "    df2=pd.DataFrame()\n",
    "    df2['text']=df['sp']+' '+df['dp']+' '+df['ptcl']+' '+df['ipv']+' '+df['vln']+' '+df['tnnl']+' '+df['bi_dur']+' '+df['bi_pkt']+' '+df['bi_byte']+' '+df['s2d_dur']+' '+df['s2d']+' '+df['s2d_byte']+' '+df['d2s_dur']+' '+df['d2s']+' '+df['d2s_byte']+' '+df['bi_min_ps']+' '+df['bi_mean_ps']+' '+df['bi_std_ps']+' '+df['bi_max_ps']+' '+df['s2d_min_ps']+' '+df['s2d_mean_ps']+' '+df['s2d_std_ps']+' '+df['s2d_max_ps']+' '+df['d2s_min_ps']+' '+df['d2s_mean_ps']+' '+df['d2s_std_ps']+' '+df['d2s_max_ps']+' '+df['bi_min_pi_ms']+' '+df['bi_mean_pi_ms']+' '+df['bi_std_pi_ms']+' '+df['bi_max_pi_ms']+' '+df['s2d_min_pi_ms']+' '+df['s2d_mean_pi_ms']+' '+df['s2d_std_pi_ms']+' '+df['s2d_max_pi_ms']+' '+df['d2s_min_pi_ms']+' '+df['d2s_mean_pi_ms']+' '+df['d2s_std_pi_ms']+' '+df['d2s_max_pi_ms']+' '+df['bi_syn']+' '+df['bi_cwr']+' '+df['bi_ece']+' '+df['bi_urg']+' '+df['bi_ack']+' '+df['bi_psh']+' '+df['bi_rst']+' '+df['bi_fin']+' '+df['s2d_syn']+' '+df['s2d_cwr']+' '+df['s2d_ece']+' '+df['s2d_urg']+' '+df['s2d_ack']+' '+df['s2d_psh']+' '+df['s2d_rst']+' '+df['s2d_fin']+' '+df['d2s_syn']+' '+df['d2s_cwr']+' '+df['d2s_ece']+' '+df['d2s_urg']+' '+df['d2s_ack']+' '+df['d2s_psh']+' '+df['d2s_rst']+' '+df['d2s_fin']+' '+df['app_name']+' '+df['app_cat']+' '+df['req_server_name']+' '+df['client_fingerprint']+' '+df['server_fingerprint']+' '+df['content_type']\n",
    "    df2['device']=df1['device']\n",
    "    df2['category']=df1['category']\n",
    "    df2['label']=df1['label']\n",
    "    return df2\n",
    "\n",
    "df2 = prepare_json(df_tag,df1)\n",
    "df2.head(1)\n"
   ]
  },
  {
   "cell_type": "code",
   "execution_count": 13,
   "metadata": {},
   "outputs": [],
   "source": [
    "def save_json(name):\n",
    "    outpath=\"/mnt/c/Users/iotfs/OneDrive - Universiti Malaya/dataset/Dataset_csv/unsw/nfstream/\"\n",
    "    name=outpath+name+'.json.gz'\n",
    "    return df2.to_json(name,orient='records',lines=True,compression='gzip')\n",
    "\n",
    "save_json('dataset_balanced')\n",
    "\n"
   ]
  }
 ],
 "metadata": {
  "kernelspec": {
   "display_name": "Python 3.8.10 ('env': venv)",
   "language": "python",
   "name": "python3"
  },
  "language_info": {
   "codemirror_mode": {
    "name": "ipython",
    "version": 3
   },
   "file_extension": ".py",
   "mimetype": "text/x-python",
   "name": "python",
   "nbconvert_exporter": "python",
   "pygments_lexer": "ipython3",
   "version": "3.8.10"
  },
  "orig_nbformat": 4,
  "vscode": {
   "interpreter": {
    "hash": "3ff71e4cde85530f9569f4177d858b79f29e294e579bf8b320d212927a31a4ef"
   }
  }
 },
 "nbformat": 4,
 "nbformat_minor": 2
}
